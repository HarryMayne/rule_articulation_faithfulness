{
 "cells": [
  {
   "cell_type": "code",
   "execution_count": 5,
   "metadata": {},
   "outputs": [],
   "source": [
    "# implementing hotelling t^2.\n",
    "# this is the for the faithfulness free-text generation experiment\n",
    "import json\n",
    "import numpy as np\n",
    "from scipy.stats import f"
   ]
  },
  {
   "cell_type": "code",
   "execution_count": 3,
   "metadata": {},
   "outputs": [],
   "source": [
    "# read in the data\n",
    "results_path = \"../../results/articulation_free_faithfulness/gpt_4_1_2025_04_14/rule_2_17.json\"\n",
    "with open(results_path, 'r') as f:\n",
    "    data = json.load(f)\n",
    "\n",
    "# want to extract a vector of TT, TF, FT, FF for each trial\n",
    "# 15 errors out of 200 (n=185)\n",
    "vectors = []\n",
    "error_c = 0\n",
    "for x in data['records']:\n",
    "    try:\n",
    "        vectors.append(list(x['combined_true_rates'].values()))\n",
    "    except:\n",
    "        error_c +=1\n",
    "X = np.array(vectors)\n",
    "\n",
    "# hypothesis vector (follows rule_17_2 -- the actual behaviour)\n",
    "# in this case the multivariate mean should be\n",
    "hypothesis_vector = np.array([1,0,0,0])\n",
    "sample_mean = X.mean(axis=0) # array([0.97522077, 0.22643243, 0.96478459, 0.23751351])"
   ]
  },
  {
   "cell_type": "code",
   "execution_count": 7,
   "metadata": {},
   "outputs": [
    {
     "name": "stdout",
     "output_type": "stream",
     "text": [
      "{'T2': 4830915.567673228, 'F': 1188037.6599848564, 'df1': 4, 'df2': 181, 'p': 0.0, 'xbar': array([0.97522077, 0.22643243, 0.96478459, 0.23751351]), 'mu': array([1., 0., 0., 0.])}\n"
     ]
    },
    {
     "data": {
      "text/plain": [
       "0.0"
      ]
     },
     "execution_count": 7,
     "metadata": {},
     "output_type": "execute_result"
    }
   ],
   "source": [
    "# build the test statistic\n",
    "\n",
    "def hotelling_t2_one_sample(X, mu):\n",
    "    \"\"\"X: (n,p) array. mu: (p,) hypothesised mean vector.\"\"\"\n",
    "    X = np.asarray(X, float)\n",
    "    mu = np.asarray(mu, float)\n",
    "    n, p = X.shape\n",
    "    xbar = X.mean(axis=0)\n",
    "    S = np.cov(X, rowvar=False, ddof=1)\n",
    "\n",
    "    # Use a pseudoinverse to be safe if S is near-singular\n",
    "    Sinv = np.linalg.pinv(S)\n",
    "\n",
    "    diff = xbar - mu\n",
    "    T2 = n * diff @ Sinv @ diff\n",
    "    Fstat = (n - p) / (p * (n - 1)) * T2\n",
    "    pval = f.sf(Fstat, p, n - p)\n",
    "    return {\n",
    "        \"T2\": float(T2),\n",
    "        \"F\": float(Fstat),\n",
    "        \"df1\": int(p),\n",
    "        \"df2\": int(n - p),\n",
    "        \"p\": float(pval),\n",
    "        \"xbar\": xbar,\n",
    "        \"mu\": mu,\n",
    "    }\n",
    "\n",
    "# ---- use it ----\n",
    "res = hotelling_t2_one_sample(X, hypothesis_vector)\n",
    "print(res)\n",
    "\n",
    "# p-value\n",
    "res['p']"
   ]
  },
  {
   "cell_type": "code",
   "execution_count": null,
   "metadata": {},
   "outputs": [],
   "source": []
  }
 ],
 "metadata": {
  "kernelspec": {
   "display_name": "venv",
   "language": "python",
   "name": "python3"
  },
  "language_info": {
   "codemirror_mode": {
    "name": "ipython",
    "version": 3
   },
   "file_extension": ".py",
   "mimetype": "text/x-python",
   "name": "python",
   "nbconvert_exporter": "python",
   "pygments_lexer": "ipython3",
   "version": "3.11.8"
  }
 },
 "nbformat": 4,
 "nbformat_minor": 2
}
